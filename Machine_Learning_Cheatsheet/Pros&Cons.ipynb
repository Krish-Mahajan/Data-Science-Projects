{
 "cells": [
  {
   "cell_type": "markdown",
   "metadata": {},
   "source": [
    "# Linear Regression  \n",
    "\n",
    "## Important Points    \n",
    "\n",
    "- $$Y = \\beta_0 + \\beta_1*X_1 + \\beta_2*X_2 + ....... \\beta_n*X_n$$\n",
    "- There must be linear relationship between independent and dependent variables  \n",
    "- Multiple regression suffers from multicollinearity, autocorrelation, heteroskedasticity.  \n",
    "- Linear Regression is very sensitive to Outliers. It can terribly affect the regression line and eventually the forecasted values.  \n",
    "- Multicollinearity can increase the variance of the coefficient estimates and make the estimates very sensitive to minor changes in the model. The result is that the coefficient estimates are unstable  \n",
    "- In case of multiple independent variables, we can go with forward selection, backward elimination and step wise approach for selection of most significant independent variables.    \n",
    "\n",
    "\n",
    "# Logistic Regression  \n",
    "\n",
    "## Important Points  \n",
    "\n",
    "- $$log(odds)=log(\\frac{p}{1-p})= \\beta_0 + \\beta_1*X_1 + \\beta_2*X_2 + ....... \\beta_n*X_n$$  \n",
    "- why have we used log in the equation?  \n",
    "  - Since we are working here with a binomial distribution (dependent variable), we need to choose a link function    which is best suited for this distribution. And, it is logit function. In the equation above, the parameters are chosen to maximize the likelihood of observing the sample values rather than minimizing the sum of squared errors (like in ordinary regression).     \n",
    "  \n",
    "- It is widely used for classification problems\n",
    "- Logistic regression doesn’t require linear relationship between dependent and independent variables.  \n",
    "- It can handle various types of relationships because it applies a non-linear log transformation to the predicted odds ratio  \n",
    "- To avoid over fitting and under fitting, we should include all significant variables. A good approach to ensure this practice is to use a step wise method to estimate the logistic regression  \n",
    "- It requires large sample sizes because maximum likelihood estimates are less powerful at low sample sizes than ordinary least square  \n",
    "- The independent variables should not be correlated with each other i.e. no multi collinearity.  However, we have the options to include interaction effects of categorical variables in the analysis and in the model.  \n",
    "- If the values of dependent variable is ordinal, then it is called as Ordinal logistic regression  \n",
    "- If dependent variable is multi class then it is known as Multinomial Logistic regression.   \n",
    "- Probabilistic Model  \n",
    "- Can quickly incorporate new data (Gradient Descent)\n",
    "\n",
    "# Stepwise Regression  \n",
    "\n",
    "## Important Points  \n",
    "- This form of regression is used when we deal with multiple independent variables. \n",
    "- In this technique, the selection of independent variables is done with the help of an automatic process, which involves no human intervention.  \n",
    "- This feat is achieved by observing statistical values like R-square, t-stats and AIC metric to discern significant variables.  \n",
    "- Stepwise regression basically fits the regression model by adding/dropping co-variates one at a time based on a specified criterion. Some of the most commonly used Stepwise regression methods are listed below:  \n",
    " - Standard stepwise regression does two things. It adds and removes predictors as needed for each step.\n",
    " - Forward selection starts with most significant predictor in the model and adds variable for each step.\n",
    " - Backward elimination starts with all predictors in the model and removes the least significant variable for each step.   \n",
    "- The aim of this modeling technique is to maximize the prediction power with minimum number of predictor variables. It is one of the method to handle higher dimensionality of data set.  \n",
    "\n",
    "\n"
   ]
  },
  {
   "cell_type": "markdown",
   "metadata": {},
   "source": [
    "# Multicollinearity: \n",
    "- "
   ]
  }
 ],
 "metadata": {
  "anaconda-cloud": {},
  "kernelspec": {
   "display_name": "Python [Root]",
   "language": "python",
   "name": "Python [Root]"
  },
  "language_info": {
   "codemirror_mode": {
    "name": "ipython",
    "version": 3
   },
   "file_extension": ".py",
   "mimetype": "text/x-python",
   "name": "python",
   "nbconvert_exporter": "python",
   "pygments_lexer": "ipython3",
   "version": "3.5.2"
  }
 },
 "nbformat": 4,
 "nbformat_minor": 0
}
